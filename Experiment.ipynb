{
  "nbformat": 4,
  "nbformat_minor": 0,
  "metadata": {
    "colab": {
      "provenance": [],
      "authorship_tag": "ABX9TyOR1U0I2vjZ6yM4frCK9GpC",
      "include_colab_link": true
    },
    "kernelspec": {
      "name": "python3",
      "display_name": "Python 3"
    },
    "language_info": {
      "name": "python"
    }
  },
  "cells": [
    {
      "cell_type": "markdown",
      "metadata": {
        "id": "view-in-github",
        "colab_type": "text"
      },
      "source": [
        "<a href=\"https://colab.research.google.com/github/psiva06/colab_experiment/blob/master/Experiment.ipynb\" target=\"_parent\"><img src=\"https://colab.research.google.com/assets/colab-badge.svg\" alt=\"Open In Colab\"/></a>"
      ]
    },
    {
      "cell_type": "code",
      "execution_count": null,
      "metadata": {
        "id": "avycZ5TJQefp"
      },
      "outputs": [],
      "source": [
        "seconds_in_a_day = 24 * 60 * 60\n",
        "print(\"seconds_in_a_day:\", seconds_in_a_day)\n",
        "\n",
        "\n",
        "import numpy as np\n",
        "import matplotlib.pyplot as plt\n",
        "import io\n",
        "import base64\n",
        "import IPython.display\n",
        "\n",
        "xy = 20 + np.random.randn(10, 2)\n",
        "x = [x for x in range(len(xy))]\n",
        "print(\"xy:\", xy)\n",
        "print(\"x:\", x)\n",
        "\n",
        "fig = plt.figure(figsize=(4, 3), facecolor='w')\n",
        "plt.plot(x, xy, '-')\n",
        "#plt.fill(x, xy)\n",
        "plt.title(\"Sample Visualization\", fontsize=10)\n",
        "\n",
        "#data = io.BytesIO()\n",
        "#plt.savefig(data)\n",
        "#image = F\"data:image/png;base64,{base64.b64encode(data.getvalue()).decode()}\"\n",
        "alt = \"Sample Visualization\"\n",
        "\n",
        "plt.xlabel(x, fontsize=10)\n",
        "plt.ylabel(xy, fontsize=10)\n",
        "plt.title(\"Sample Visualization\", fontsize=10)\n",
        "plt.show()\n",
        "#display.display(display.Markdown(F\"\"\"![{alt}]({image})\"\"\"))\n",
        "#plt.close(fig)"
      ]
    },
    {
      "cell_type": "code",
      "source": [
        "import numpy as np\n",
        "import pandas as pd\n",
        "my_data = np.array([[10, 45], [15,40], [20,35], [30, 25], [40, 15]])\n",
        "my_column_names = ['Temperature', 'Humidity']\n",
        "\n",
        "my_dataframe = pd.DataFrame(data=my_data, columns=my_column_names)\n",
        "print(my_dataframe)\n",
        "my_dataframe['Adjusted'] = my_dataframe['Temperature'] + my_dataframe['Humidity']\n",
        "print(my_dataframe)\n"
      ],
      "metadata": {
        "id": "KiH-JMf0aobe"
      },
      "execution_count": null,
      "outputs": []
    }
  ]
}